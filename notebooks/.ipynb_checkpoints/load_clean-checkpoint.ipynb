{
 "cells": [
  {
   "cell_type": "code",
   "execution_count": 110,
   "id": "90eb6b27-cb1f-45bd-a0de-b81d3738832a",
   "metadata": {},
   "outputs": [],
   "source": [
    "import pandas as pd\n",
    "import numpy as np\n",
    "from torch_geometric.data import Data\n",
    "import torch"
   ]
  },
  {
   "cell_type": "code",
   "execution_count": 113,
   "id": "bd52f639-3453-43bb-8776-689a917faef9",
   "metadata": {},
   "outputs": [],
   "source": [
    "from sentence_transformers import SentenceTransformer\n",
    "\n",
    "# SentenceTransformer creates embeddings for our input text\n",
    "embedding_model = SentenceTransformer(\"all-MiniLM-L6-v2\")"
   ]
  },
  {
   "cell_type": "code",
   "execution_count": 467,
   "id": "7efe82c2-f88a-4ae8-b31e-58a1139e96ea",
   "metadata": {},
   "outputs": [],
   "source": [
    "# Read in training data\n",
    "df = pd.read_csv('../public_data/train/track_a/eng.csv')\n",
    "df['text_embedding'] = df['text'].map(lambda x: embedding_model.encode(x))"
   ]
  },
  {
   "cell_type": "code",
   "execution_count": 579,
   "id": "d19a28bf-7065-494c-aa6a-5136001fccdc",
   "metadata": {},
   "outputs": [
    {
     "data": {
      "text/plain": [
       "tensor([[1.0000, 0.7177, 0.0210, 0.4625, 0.3363],\n",
       "        [0.1484, 1.0000, 0.0646, 0.4233, 0.3631],\n",
       "        [0.0104, 0.1543, 1.0000, 0.0697, 0.2329],\n",
       "        [0.1754, 0.7768, 0.0535, 1.0000, 0.2278],\n",
       "        [0.1335, 0.6973, 0.1871, 0.2384, 1.0000]])"
      ]
     },
     "execution_count": 579,
     "metadata": {},
     "output_type": "execute_result"
    }
   ],
   "source": [
    "# Create normalized coccurance matrix (3.1)\n",
    "emotions_list = ['Anger', 'Fear', 'Joy', 'Sadness', 'Surprise']\n",
    "cooccurance_matrix = [[0] * 5 for i in range(5)]\n",
    "\n",
    "for _, row in df.iterrows():\n",
    "    for index, emotion in enumerate(emotions_list):\n",
    "        if row[emotion] == 1:\n",
    "            for index2, emotion2 in enumerate(emotions_list):\n",
    "                cooccurance_matrix[index][index2] += row[emotion2]\n",
    "normalized_cooccurance_matrix = cooccurance_matrix\n",
    "\n",
    "for i in range(len(normalized_cooccurance_matrix)):\n",
    "    k = sum(df[emotions_list[i]])\n",
    "    for j in range(len(normalized_cooccurance_matrix)):\n",
    "        normalized_cooccurance_matrix[i][j] /= k\n",
    "\n",
    "normalized_cooccurance_matrix = torch.tensor(normalized_cooccurance_matrix)\n",
    "normalized_cooccurance_matrix"
   ]
  },
  {
   "cell_type": "code",
   "execution_count": 593,
   "id": "189965e8-1c8d-490d-816b-05875327dbc6",
   "metadata": {},
   "outputs": [
    {
     "data": {
      "text/plain": [
       "tensor([[1., 1., 0., 1., 0.],\n",
       "        [0., 1., 0., 1., 1.],\n",
       "        [0., 0., 1., 0., 0.],\n",
       "        [0., 1., 0., 1., 0.],\n",
       "        [0., 1., 0., 0., 1.]])"
      ]
     },
     "execution_count": 593,
     "metadata": {},
     "output_type": "execute_result"
    }
   ],
   "source": [
    "mu = 0.35\n",
    "for i in range(5):\n",
    "    for j in range(5):\n",
    "        if normalized_cooccurance_matrix[i][j] > mu:\n",
    "            normalized_cooccurance_matrix[i][j] = 1\n",
    "        else:\n",
    "            normalized_cooccurance_matrix[i][j] = 0\n",
    "normalized_cooccurance_matrix     "
   ]
  },
  {
   "cell_type": "code",
   "execution_count": 594,
   "id": "a7fe06c0-ca38-4f08-bed6-25628baa91ad",
   "metadata": {},
   "outputs": [],
   "source": [
    "degrees = normalized_cooccurance_matrix.sum(axis=1)\n",
    "\n",
    "d_inv_sqrt = torch.diag(torch.pow(degrees, -0.5))\n",
    "qq = d_inv_sqrt @ normalized_cooccurance_matrix @ d_inv_sqrt"
   ]
  },
  {
   "cell_type": "code",
   "execution_count": null,
   "id": "d22270db-b48a-4f82-8f20-038699c3f981",
   "metadata": {},
   "outputs": [],
   "source": [
    "emotion_embeddings = torch.tensor([embedding_model.encode(i)for i in ['Anger', 'Fear', 'Joy', 'Sadness', 'Surprise']])\n",
    "emotion_embeddings"
   ]
  },
  {
   "cell_type": "code",
   "execution_count": 563,
   "id": "06ae0b08-4a17-47c8-a675-6a016fa7c079",
   "metadata": {},
   "outputs": [
    {
     "data": {
      "text/plain": [
       "tensor([[0.3941, 0.3186, 0.0109, 0.1943, 0.1406],\n",
       "        [0.0659, 0.5002, 0.0377, 0.2003, 0.1710],\n",
       "        [0.0054, 0.0901, 0.6815, 0.0385, 0.1280],\n",
       "        [0.0737, 0.3676, 0.0296, 0.4477, 0.1015],\n",
       "        [0.0558, 0.3283, 0.1028, 0.1062, 0.4432]])"
      ]
     },
     "execution_count": 563,
     "metadata": {},
     "output_type": "execute_result"
    }
   ],
   "source": [
    "# Normalize matrix with original gcn method\n",
    "\n",
    "\n",
    "# w = 0.05\n",
    "# for i in range(5):\n",
    "#     for j in range(5):\n",
    "#         if i != j:\n",
    "#             normalized_cooccurance_matrix[i][j] /= sum([1 for k in normalized_cooccurance_matrix[i] if k > 0])\n",
    "#         else:\n",
    "#             normalized_cooccurance_matrix[i][j] = 1 - w\n",
    "\n",
    "# adj = torch.tensor(adj_matrix, dtype=torch.float32)\n",
    "adj = normalized_cooccurance_matrix\n",
    "# Calculate degree matrix\n",
    "degrees = adj.sum(dim=1)\n",
    "\n",
    "# Calculate D^(-1/2)\n",
    "# Add small epsilon to prevent division by zero\n",
    "d_inv_sqrt = torch.pow(degrees + 1e-7, -0.5)\n",
    "\n",
    "# Convert to diagonal matrix\n",
    "d_inv_sqrt = torch.diag(d_inv_sqrt)\n",
    "\n",
    "# Normalized adjacency: D^(-1/2) A D^(-1/2)\n",
    "q = d_inv_sqrt @ adj @ d_inv_sqrt\n",
    "q\n",
    "# degree_matrix = [[0] * 5 for i in range(5)]\n",
    "# for i in range(5):\n",
    "#     for j in range(5):\n",
    "#         if i == j:\n",
    "#             degree_matrix[i][j] = sum([1 for i in normalized_cooccurance_matrix[j] if i > 0])\n",
    "#         else:\n",
    "#             degree_matrix[i][j] = 0\n",
    "\n",
    "# eigenvals, eigenvecs = torch.linalg.eigh(torch.tensor(degree_matrix, dtype=torch.float32))\n",
    "# M_inv_sqrt = eigenvecs @ torch.diag(1.0 / torch.sqrt(eigenvals)) @ eigenvecs.T\n",
    "# M_inv_sqrt\n",
    "# q = M_inv_sqrt @ normalized_cooccurance_matrix @ M_inv_sqrt\n",
    "# q\n",
    "# normalized_cooccurance_matrix"
   ]
  },
  {
   "cell_type": "code",
   "execution_count": 595,
   "id": "34f77ff8-08a8-47f1-a418-e82110312498",
   "metadata": {},
   "outputs": [],
   "source": [
    "class TweetsDataset(torch.utils.data.Dataset):\n",
    "    def __init__(self, df, target_columns, feature_column):\n",
    "        self.df = df.copy()\n",
    "        self.target_columns = target_columns\n",
    "        self.feature_column = feature_column\n",
    "\n",
    "    def __len__(self) -> int:\n",
    "        return len(self.df) \n",
    "\n",
    "    def __getitem__(self, idx):\n",
    "        row = self.df.iloc[idx]\n",
    "        return torch.tensor(row[self.feature_column]), torch.tensor([i for i in row[self.target_columns]], dtype=torch.float32)"
   ]
  },
  {
   "cell_type": "code",
   "execution_count": 596,
   "id": "0af8fdba-cc4c-4edc-b82a-0f77ae3266e2",
   "metadata": {},
   "outputs": [],
   "source": [
    "import torch\n",
    "from torch.utils.data import Dataset, DataLoader, random_split\n",
    "import numpy as np"
   ]
  },
  {
   "cell_type": "code",
   "execution_count": 597,
   "id": "eeffbe2d-7c40-4875-98de-8e326a895f2b",
   "metadata": {},
   "outputs": [],
   "source": [
    "dataset = TweetsDataset(df, emotions_list, 'text_embedding')\n",
    "\n",
    "train_size = int(.7 * len(dataset))\n",
    "test_size = len(dataset) - train_size\n",
    "\n",
    "# Create splits\n",
    "train_dataset, test_dataset = random_split(\n",
    "    dataset, \n",
    "    [train_size, test_size],\n",
    "    generator=torch.Generator().manual_seed(42)  # For reproducibility\n",
    ")\n",
    "\n",
    "# Create data loaders\n",
    "train_loader = DataLoader(\n",
    "    train_dataset,\n",
    "    batch_size=8,\n",
    "    shuffle=True\n",
    ")\n",
    "\n",
    "test_loader = DataLoader(\n",
    "    test_dataset,\n",
    "    batch_size=8,\n",
    "    shuffle=False  # No need to shuffle test data\n",
    ")\n",
    "\n",
    "dataloader = torch.utils.data.DataLoader(dataset, batch_size=8, shuffle=True)"
   ]
  },
  {
   "cell_type": "code",
   "execution_count": null,
   "id": "bb31b887-9dc4-407d-ae30-1c010f47142a",
   "metadata": {},
   "outputs": [],
   "source": [
    "import math\n",
    "class EmoGraph(torch.nn.Module):\n",
    "    def __init__(self, input_dim, m, ee):\n",
    "        super().__init__()\n",
    "        self.w1 = torch.nn.Parameter(torch.FloatTensor(384, 384))\n",
    "        self.w2 = torch.nn.Parameter(torch.FloatTensor(384, 384))\n",
    "\n",
    "        self.ee = ee\n",
    "\n",
    "        self.m = m\n",
    "        self.reset_parameters()\n",
    "\n",
    "    def reset_parameters(self):\n",
    "        stdv = 1. / math.sqrt(self.w1.size(1))\n",
    "        self.w1.data.uniform_(-stdv, stdv)\n",
    "\n",
    "        stdv = 1. / math.sqrt(self.w2.size(1))\n",
    "        self.w2.data.uniform_(-stdv, stdv)\n",
    "    def forward(self, x):\n",
    "        h = torch.nn.functional.relu(self.m @ self.ee @ self.w1)\n",
    "        h = torch.nn.functional.relu(self.m @ h @ self.w2)\n",
    "\n",
    "        logits = torch.matmul(x, h.t())\n",
    "        out = torch.nn.functional.sigmoid(logits)\n",
    "        return out"
   ]
  },
  {
   "cell_type": "code",
   "execution_count": null,
   "id": "6ba0e711-f1aa-4e1f-9dc9-a99d1e8e0694",
   "metadata": {},
   "outputs": [],
   "source": [
    "torch.eye(5)"
   ]
  },
  {
   "cell_type": "code",
   "execution_count": null,
   "id": "3a732284-b202-4f8a-a9af-ef333f2b1704",
   "metadata": {},
   "outputs": [],
   "source": [
    "model = EmoGraph(384, qq, emotion_embeddings)"
   ]
  },
  {
   "cell_type": "code",
   "execution_count": null,
   "id": "06191bdc-157f-485b-8a0b-44fe35d2cf1e",
   "metadata": {},
   "outputs": [],
   "source": [
    "loss_fn = torch.nn.BCELoss()\n",
    "optimizer = torch.optim.AdamW(\n",
    "    model.parameters(),\n",
    "    lr=0.001,\n",
    "    weight_decay=0.01\n",
    ")"
   ]
  },
  {
   "cell_type": "code",
   "execution_count": null,
   "id": "cc17d9be-08c0-486a-bd29-0115901f8c48",
   "metadata": {
    "scrolled": true
   },
   "outputs": [],
   "source": [
    "for i in range(100):\n",
    "    model.train()\n",
    "    for idx, data in enumerate(dataloader):\n",
    "        inputs, labels = data\n",
    "\n",
    "        optimizer.zero_grad()\n",
    "\n",
    "        output = model(inputs)\n",
    "        # print(output, labels)\n",
    "\n",
    "        loss = loss_fn(output, labels)\n",
    "        loss.backward()\n",
    "\n",
    "        optimizer.step()\n",
    "        print(loss)"
   ]
  },
  {
   "cell_type": "code",
   "execution_count": 559,
   "id": "77093b5b-ee58-4aba-84b7-56f693a11968",
   "metadata": {},
   "outputs": [],
   "source": [
    "thresh = .4\n",
    "test_df = pd.read_csv('../public_data/dev/track_a/eng_a.csv')\n",
    "all_results = []\n",
    "\n",
    "for idx, row in test_df.iterrows():\n",
    "    e = embedding_model.encode(row['text'])\n",
    "    pred = model(torch.tensor(e)).tolist()\n",
    "    res = [1 if k > thresh else 0 for k in pred]\n",
    "    lol = [row['id']]\n",
    "    lol.extend(res)\n",
    "    all_results.append(lol)\n",
    "    # print(all_results)\n",
    "    # break\n",
    "# for i in \n",
    "output_df = pd.DataFrame(all_results, columns=['id','Anger', 'Fear', 'Joy', 'Sadness', 'Surprise'])\n",
    "# output_df"
   ]
  },
  {
   "cell_type": "code",
   "execution_count": 361,
   "id": "2a30c1d0-7f71-4aab-a651-1b05ed8e91cf",
   "metadata": {},
   "outputs": [],
   "source": [
    "# output_df\n",
    "output_df.to_csv('../outputs/1.csv', index=False)"
   ]
  },
  {
   "cell_type": "code",
   "execution_count": 362,
   "id": "77d403b1-f10d-40b0-8bcc-95c58cc0e7b5",
   "metadata": {},
   "outputs": [
    {
     "data": {
      "text/html": [
       "<div>\n",
       "<style scoped>\n",
       "    .dataframe tbody tr th:only-of-type {\n",
       "        vertical-align: middle;\n",
       "    }\n",
       "\n",
       "    .dataframe tbody tr th {\n",
       "        vertical-align: top;\n",
       "    }\n",
       "\n",
       "    .dataframe thead th {\n",
       "        text-align: right;\n",
       "    }\n",
       "</style>\n",
       "<table border=\"1\" class=\"dataframe\">\n",
       "  <thead>\n",
       "    <tr style=\"text-align: right;\">\n",
       "      <th></th>\n",
       "      <th>id</th>\n",
       "      <th>Anger</th>\n",
       "      <th>Fear</th>\n",
       "      <th>Joy</th>\n",
       "      <th>Sadness</th>\n",
       "      <th>Surprise</th>\n",
       "    </tr>\n",
       "  </thead>\n",
       "  <tbody>\n",
       "    <tr>\n",
       "      <th>0</th>\n",
       "      <td>eng_dev_track_a_00001</td>\n",
       "      <td>0</td>\n",
       "      <td>1</td>\n",
       "      <td>0</td>\n",
       "      <td>0</td>\n",
       "      <td>0</td>\n",
       "    </tr>\n",
       "    <tr>\n",
       "      <th>1</th>\n",
       "      <td>eng_dev_track_a_00002</td>\n",
       "      <td>0</td>\n",
       "      <td>1</td>\n",
       "      <td>0</td>\n",
       "      <td>0</td>\n",
       "      <td>0</td>\n",
       "    </tr>\n",
       "    <tr>\n",
       "      <th>2</th>\n",
       "      <td>eng_dev_track_a_00003</td>\n",
       "      <td>0</td>\n",
       "      <td>1</td>\n",
       "      <td>0</td>\n",
       "      <td>0</td>\n",
       "      <td>1</td>\n",
       "    </tr>\n",
       "    <tr>\n",
       "      <th>3</th>\n",
       "      <td>eng_dev_track_a_00004</td>\n",
       "      <td>0</td>\n",
       "      <td>1</td>\n",
       "      <td>0</td>\n",
       "      <td>0</td>\n",
       "      <td>0</td>\n",
       "    </tr>\n",
       "    <tr>\n",
       "      <th>4</th>\n",
       "      <td>eng_dev_track_a_00005</td>\n",
       "      <td>0</td>\n",
       "      <td>1</td>\n",
       "      <td>0</td>\n",
       "      <td>0</td>\n",
       "      <td>0</td>\n",
       "    </tr>\n",
       "    <tr>\n",
       "      <th>...</th>\n",
       "      <td>...</td>\n",
       "      <td>...</td>\n",
       "      <td>...</td>\n",
       "      <td>...</td>\n",
       "      <td>...</td>\n",
       "      <td>...</td>\n",
       "    </tr>\n",
       "    <tr>\n",
       "      <th>111</th>\n",
       "      <td>eng_dev_track_a_00112</td>\n",
       "      <td>0</td>\n",
       "      <td>0</td>\n",
       "      <td>0</td>\n",
       "      <td>0</td>\n",
       "      <td>0</td>\n",
       "    </tr>\n",
       "    <tr>\n",
       "      <th>112</th>\n",
       "      <td>eng_dev_track_a_00113</td>\n",
       "      <td>0</td>\n",
       "      <td>1</td>\n",
       "      <td>1</td>\n",
       "      <td>0</td>\n",
       "      <td>1</td>\n",
       "    </tr>\n",
       "    <tr>\n",
       "      <th>113</th>\n",
       "      <td>eng_dev_track_a_00114</td>\n",
       "      <td>0</td>\n",
       "      <td>1</td>\n",
       "      <td>0</td>\n",
       "      <td>0</td>\n",
       "      <td>0</td>\n",
       "    </tr>\n",
       "    <tr>\n",
       "      <th>114</th>\n",
       "      <td>eng_dev_track_a_00115</td>\n",
       "      <td>0</td>\n",
       "      <td>1</td>\n",
       "      <td>0</td>\n",
       "      <td>0</td>\n",
       "      <td>0</td>\n",
       "    </tr>\n",
       "    <tr>\n",
       "      <th>115</th>\n",
       "      <td>eng_dev_track_a_00116</td>\n",
       "      <td>0</td>\n",
       "      <td>0</td>\n",
       "      <td>0</td>\n",
       "      <td>0</td>\n",
       "      <td>1</td>\n",
       "    </tr>\n",
       "  </tbody>\n",
       "</table>\n",
       "<p>116 rows × 6 columns</p>\n",
       "</div>"
      ],
      "text/plain": [
       "                        id  Anger  Fear  Joy  Sadness  Surprise\n",
       "0    eng_dev_track_a_00001      0     1    0        0         0\n",
       "1    eng_dev_track_a_00002      0     1    0        0         0\n",
       "2    eng_dev_track_a_00003      0     1    0        0         1\n",
       "3    eng_dev_track_a_00004      0     1    0        0         0\n",
       "4    eng_dev_track_a_00005      0     1    0        0         0\n",
       "..                     ...    ...   ...  ...      ...       ...\n",
       "111  eng_dev_track_a_00112      0     0    0        0         0\n",
       "112  eng_dev_track_a_00113      0     1    1        0         1\n",
       "113  eng_dev_track_a_00114      0     1    0        0         0\n",
       "114  eng_dev_track_a_00115      0     1    0        0         0\n",
       "115  eng_dev_track_a_00116      0     0    0        0         1\n",
       "\n",
       "[116 rows x 6 columns]"
      ]
     },
     "execution_count": 362,
     "metadata": {},
     "output_type": "execute_result"
    }
   ],
   "source": [
    "output_df"
   ]
  },
  {
   "cell_type": "code",
   "execution_count": null,
   "id": "306b6174-27a5-4716-84fa-347445d33248",
   "metadata": {},
   "outputs": [],
   "source": []
  }
 ],
 "metadata": {
  "kernelspec": {
   "display_name": "semeval",
   "language": "python",
   "name": "myev"
  },
  "language_info": {
   "codemirror_mode": {
    "name": "ipython",
    "version": 3
   },
   "file_extension": ".py",
   "mimetype": "text/x-python",
   "name": "python",
   "nbconvert_exporter": "python",
   "pygments_lexer": "ipython3",
   "version": "3.12.7"
  }
 },
 "nbformat": 4,
 "nbformat_minor": 5
}
